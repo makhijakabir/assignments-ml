{
  "nbformat": 4,
  "nbformat_minor": 0,
  "metadata": {
    "colab": {
      "name": "ML Tutorial 01",
      "provenance": [],
      "toc_visible": true,
      "authorship_tag": "ABX9TyM286xgbn00q6HI34OygdZ+",
      "include_colab_link": true
    },
    "kernelspec": {
      "name": "python3",
      "display_name": "Python 3"
    },
    "language_info": {
      "name": "python"
    }
  },
  "cells": [
    {
      "cell_type": "markdown",
      "metadata": {
        "id": "view-in-github",
        "colab_type": "text"
      },
      "source": [
        "<a href=\"https://colab.research.google.com/github/makhijakabir/assignments-ml/blob/main/ML_Tutorial_01.ipynb\" target=\"_parent\"><img src=\"https://colab.research.google.com/assets/colab-badge.svg\" alt=\"Open In Colab\"/></a>"
      ]
    },
    {
      "cell_type": "markdown",
      "metadata": {
        "id": "wGzQ4cAROxu-"
      },
      "source": [
        "#Machine Learning Tutorial 01\n",
        "\n",
        "###The following table shows the results of a recently conducted study on the correlation of the number of hours spent driving with the risk of developing acute backache. Find the equation of the best fit line for this data.\n",
        "\n",
        "---\n",
        "\n",
        "<br>\n",
        "\n",
        "###Instructions:<br>\n",
        "1. find independent variable and dependent variable in given dataset.<br>\n",
        "2. implement linear regression in Colab.<br>\n",
        "3. Find regression line that best predicts value of dependent variable.<br> \n",
        "4. Find SST, SSE, SSR and co-efficient of determination (R2).<br>\n",
        "5. Explain pictorial relationship between SST, SSE, SSR.<br>\n",
        "6. Decide whether regression equation is good fit or not for the given sample data\n",
        "\n",
        "\n"
      ]
    },
    {
      "cell_type": "markdown",
      "metadata": {
        "id": "c7DPoEwIPyOE"
      },
      "source": [
        "##Imports"
      ]
    },
    {
      "cell_type": "code",
      "metadata": {
        "id": "XS6-UEweOjjE"
      },
      "source": [
        "import pandas as pd\n",
        "from pandas import DataFrame\n",
        "import numpy as np\n",
        "\n",
        "import matplotlib.pyplot as plt\n",
        "\n",
        "from sklearn.linear_model import LinearRegression\n",
        "from sklearn.model_selection import train_test_split\n",
        "from sklearn import metrics\n",
        "\n",
        "%matplotlib inline"
      ],
      "execution_count": 47,
      "outputs": []
    },
    {
      "cell_type": "markdown",
      "metadata": {
        "id": "8ptm53tXTqq6"
      },
      "source": [
        "##Instruction 1"
      ]
    },
    {
      "cell_type": "markdown",
      "metadata": {
        "id": "udyfVzS5SOkz"
      },
      "source": [
        "###Data Pre-Processing"
      ]
    },
    {
      "cell_type": "code",
      "metadata": {
        "colab": {
          "base_uri": "https://localhost:8080/",
          "height": 0
        },
        "id": "Tl_aWktWSa4f",
        "outputId": "5757f5fa-e202-403f-cb02-68272217f382"
      },
      "source": [
        "data = pd.read_csv('/content/dataTut01 - Sheet1.csv')\n",
        "data"
      ],
      "execution_count": 6,
      "outputs": [
        {
          "output_type": "execute_result",
          "data": {
            "text/html": [
              "<div>\n",
              "<style scoped>\n",
              "    .dataframe tbody tr th:only-of-type {\n",
              "        vertical-align: middle;\n",
              "    }\n",
              "\n",
              "    .dataframe tbody tr th {\n",
              "        vertical-align: top;\n",
              "    }\n",
              "\n",
              "    .dataframe thead th {\n",
              "        text-align: right;\n",
              "    }\n",
              "</style>\n",
              "<table border=\"1\" class=\"dataframe\">\n",
              "  <thead>\n",
              "    <tr style=\"text-align: right;\">\n",
              "      <th></th>\n",
              "      <th>No. of hours spent driving (x)</th>\n",
              "      <th>Risk Score on a Scale of 0-100 (y)</th>\n",
              "    </tr>\n",
              "  </thead>\n",
              "  <tbody>\n",
              "    <tr>\n",
              "      <th>0</th>\n",
              "      <td>10</td>\n",
              "      <td>95</td>\n",
              "    </tr>\n",
              "    <tr>\n",
              "      <th>1</th>\n",
              "      <td>9</td>\n",
              "      <td>80</td>\n",
              "    </tr>\n",
              "    <tr>\n",
              "      <th>2</th>\n",
              "      <td>2</td>\n",
              "      <td>10</td>\n",
              "    </tr>\n",
              "    <tr>\n",
              "      <th>3</th>\n",
              "      <td>15</td>\n",
              "      <td>50</td>\n",
              "    </tr>\n",
              "    <tr>\n",
              "      <th>4</th>\n",
              "      <td>10</td>\n",
              "      <td>45</td>\n",
              "    </tr>\n",
              "    <tr>\n",
              "      <th>5</th>\n",
              "      <td>16</td>\n",
              "      <td>98</td>\n",
              "    </tr>\n",
              "    <tr>\n",
              "      <th>6</th>\n",
              "      <td>11</td>\n",
              "      <td>38</td>\n",
              "    </tr>\n",
              "    <tr>\n",
              "      <th>7</th>\n",
              "      <td>16</td>\n",
              "      <td>93</td>\n",
              "    </tr>\n",
              "  </tbody>\n",
              "</table>\n",
              "</div>"
            ],
            "text/plain": [
              "   No. of hours spent driving (x)  Risk Score on a Scale of 0-100 (y)\n",
              "0                              10                                  95\n",
              "1                               9                                  80\n",
              "2                               2                                  10\n",
              "3                              15                                  50\n",
              "4                              10                                  45\n",
              "5                              16                                  98\n",
              "6                              11                                  38\n",
              "7                              16                                  93"
            ]
          },
          "metadata": {},
          "execution_count": 6
        }
      ]
    },
    {
      "cell_type": "code",
      "metadata": {
        "colab": {
          "base_uri": "https://localhost:8080/",
          "height": 0
        },
        "id": "DZsqUUEySh4u",
        "outputId": "45e58cda-6236-4750-95d1-f20f8c595292"
      },
      "source": [
        "data.describe()"
      ],
      "execution_count": 7,
      "outputs": [
        {
          "output_type": "execute_result",
          "data": {
            "text/html": [
              "<div>\n",
              "<style scoped>\n",
              "    .dataframe tbody tr th:only-of-type {\n",
              "        vertical-align: middle;\n",
              "    }\n",
              "\n",
              "    .dataframe tbody tr th {\n",
              "        vertical-align: top;\n",
              "    }\n",
              "\n",
              "    .dataframe thead th {\n",
              "        text-align: right;\n",
              "    }\n",
              "</style>\n",
              "<table border=\"1\" class=\"dataframe\">\n",
              "  <thead>\n",
              "    <tr style=\"text-align: right;\">\n",
              "      <th></th>\n",
              "      <th>No. of hours spent driving (x)</th>\n",
              "      <th>Risk Score on a Scale of 0-100 (y)</th>\n",
              "    </tr>\n",
              "  </thead>\n",
              "  <tbody>\n",
              "    <tr>\n",
              "      <th>count</th>\n",
              "      <td>8.000000</td>\n",
              "      <td>8.000000</td>\n",
              "    </tr>\n",
              "    <tr>\n",
              "      <th>mean</th>\n",
              "      <td>11.125000</td>\n",
              "      <td>63.625000</td>\n",
              "    </tr>\n",
              "    <tr>\n",
              "      <th>std</th>\n",
              "      <td>4.673252</td>\n",
              "      <td>32.429869</td>\n",
              "    </tr>\n",
              "    <tr>\n",
              "      <th>min</th>\n",
              "      <td>2.000000</td>\n",
              "      <td>10.000000</td>\n",
              "    </tr>\n",
              "    <tr>\n",
              "      <th>25%</th>\n",
              "      <td>9.750000</td>\n",
              "      <td>43.250000</td>\n",
              "    </tr>\n",
              "    <tr>\n",
              "      <th>50%</th>\n",
              "      <td>10.500000</td>\n",
              "      <td>65.000000</td>\n",
              "    </tr>\n",
              "    <tr>\n",
              "      <th>75%</th>\n",
              "      <td>15.250000</td>\n",
              "      <td>93.500000</td>\n",
              "    </tr>\n",
              "    <tr>\n",
              "      <th>max</th>\n",
              "      <td>16.000000</td>\n",
              "      <td>98.000000</td>\n",
              "    </tr>\n",
              "  </tbody>\n",
              "</table>\n",
              "</div>"
            ],
            "text/plain": [
              "       No. of hours spent driving (x)  Risk Score on a Scale of 0-100 (y)\n",
              "count                        8.000000                            8.000000\n",
              "mean                        11.125000                           63.625000\n",
              "std                          4.673252                           32.429869\n",
              "min                          2.000000                           10.000000\n",
              "25%                          9.750000                           43.250000\n",
              "50%                         10.500000                           65.000000\n",
              "75%                         15.250000                           93.500000\n",
              "max                         16.000000                           98.000000"
            ]
          },
          "metadata": {},
          "execution_count": 7
        }
      ]
    },
    {
      "cell_type": "markdown",
      "metadata": {
        "id": "RHK8vhUzS5UE"
      },
      "source": [
        "###Determining which one is the dependent variable\n",
        "\n",
        "From the above dataset it is very well evident that 'y' is the dependent variable, since it is a score of how severe the pain can turn out to be after driving 'x' number of hours, therefore, it is safe to say that 'y' is dependent on 'x' and exhibits a linear relationship."
      ]
    },
    {
      "cell_type": "markdown",
      "metadata": {
        "id": "i1h_tH_WTfI4"
      },
      "source": [
        "##Insruction 2"
      ]
    },
    {
      "cell_type": "code",
      "metadata": {
        "id": "iwn2gTqvSyc9"
      },
      "source": [
        "x = DataFrame(data, columns = ['No. of hours spent driving (x)'])\n",
        "y = DataFrame(data, columns = ['Risk Score on a Scale of 0-100 (y)'])"
      ],
      "execution_count": 8,
      "outputs": []
    },
    {
      "cell_type": "code",
      "metadata": {
        "colab": {
          "base_uri": "https://localhost:8080/",
          "height": 404
        },
        "id": "nBQsJPfhUCIJ",
        "outputId": "10f1de38-5945-473e-aec9-89b6ccbd3e56"
      },
      "source": [
        "plt.figure(figsize=(20, 6))\n",
        "plt.title('Risk Scale Score v/s No of Hours Spent on Driving')\n",
        "plt.scatter(x, y) \n",
        "plt.xlabel('No. of hours spent driving (x)')\n",
        "plt.ylabel('Risk Score on a Scale of 0-100 (y)')\n",
        "plt.show()"
      ],
      "execution_count": 12,
      "outputs": [
        {
          "output_type": "display_data",
          "data": {
            "image/png": "[encoded data removed]",
            "text/plain": [
              "<Figure size 1440x432 with 1 Axes>"
            ]
          },
          "metadata": {
            "needs_background": "light"
          }
        }
      ]
    },
    {
      "cell_type": "code",
      "metadata": {
        "id": "50f8dgYkUEAC"
      },
      "source": [
        "regression = LinearRegression()"
      ],
      "execution_count": 21,
      "outputs": []
    },
    {
      "cell_type": "code",
      "metadata": {
        "id": "_sIXxqgDX11i"
      },
      "source": [
        "xTrain, xTest, yTrain, yTest = train_test_split(x, y, test_size=0.2, random_state=101)"
      ],
      "execution_count": 28,
      "outputs": []
    },
    {
      "cell_type": "code",
      "metadata": {
        "colab": {
          "base_uri": "https://localhost:8080/"
        },
        "id": "3nT2YGgTX5q2",
        "outputId": "721cba15-1b3a-49d8-baa9-1b242f038f27"
      },
      "source": [
        "regression.fit(xTrain, yTrain)"
      ],
      "execution_count": 29,
      "outputs": [
        {
          "output_type": "execute_result",
          "data": {
            "text/plain": [
              "LinearRegression(copy_X=True, fit_intercept=True, n_jobs=None, normalize=False)"
            ]
          },
          "metadata": {},
          "execution_count": 29
        }
      ]
    },
    {
      "cell_type": "code",
      "metadata": {
        "colab": {
          "base_uri": "https://localhost:8080/"
        },
        "id": "j0NxPW8gUqzm",
        "outputId": "c824acf1-ee24-4135-a582-ee75262943c6"
      },
      "source": [
        "regression.coef_"
      ],
      "execution_count": 30,
      "outputs": [
        {
          "output_type": "execute_result",
          "data": {
            "text/plain": [
              "array([[4.11803279]])"
            ]
          },
          "metadata": {},
          "execution_count": 30
        }
      ]
    },
    {
      "cell_type": "code",
      "metadata": {
        "colab": {
          "base_uri": "https://localhost:8080/"
        },
        "id": "IIYRf3b1UyMD",
        "outputId": "915615bc-3f82-451b-dd94-2b37149e9b48"
      },
      "source": [
        "regression.intercept_"
      ],
      "execution_count": 31,
      "outputs": [
        {
          "output_type": "execute_result",
          "data": {
            "text/plain": [
              "array([14.4852459])"
            ]
          },
          "metadata": {},
          "execution_count": 31
        }
      ]
    },
    {
      "cell_type": "markdown",
      "metadata": {
        "id": "bi05TjXYU8KR"
      },
      "source": [
        "##Instruction 3"
      ]
    },
    {
      "cell_type": "code",
      "metadata": {
        "colab": {
          "base_uri": "https://localhost:8080/",
          "height": 404
        },
        "id": "5PSzfW4lU1pi",
        "outputId": "f92bc9f9-7144-42b4-d202-7570cc6fac95"
      },
      "source": [
        "plt.figure(figsize=(20, 6))\n",
        "plt.title('Risk Scale Score v/s No of Hours Spent on Driving')\n",
        "plt.scatter(xTrain, yTrain)\n",
        "plt.plot(xTrain, regression.predict(xTrain), color='red', linewidth=4)\n",
        "plt.xlabel('No. of hours spent driving (x)')\n",
        "plt.ylabel('Risk Score on a Scale of 0-100 (y)')\n",
        "plt.show()"
      ],
      "execution_count": 32,
      "outputs": [
        {
          "output_type": "display_data",
          "data": {
            "image/png": "[encoded data removed]",
            "text/plain": [
              "<Figure size 1440x432 with 1 Axes>"
            ]
          },
          "metadata": {
            "needs_background": "light"
          }
        }
      ]
    },
    {
      "cell_type": "markdown",
      "metadata": {
        "id": "OhGAUEl1VQlS"
      },
      "source": [
        "##Instruction 4"
      ]
    },
    {
      "cell_type": "code",
      "metadata": {
        "colab": {
          "base_uri": "https://localhost:8080/",
          "height": 235
        },
        "id": "fBfXqltebQ_b",
        "outputId": "0a984db0-ecd3-4f32-b50f-1eaaa3408600"
      },
      "source": [
        "yTrain"
      ],
      "execution_count": 44,
      "outputs": [
        {
          "output_type": "execute_result",
          "data": {
            "text/html": [
              "<div>\n",
              "<style scoped>\n",
              "    .dataframe tbody tr th:only-of-type {\n",
              "        vertical-align: middle;\n",
              "    }\n",
              "\n",
              "    .dataframe tbody tr th {\n",
              "        vertical-align: top;\n",
              "    }\n",
              "\n",
              "    .dataframe thead th {\n",
              "        text-align: right;\n",
              "    }\n",
              "</style>\n",
              "<table border=\"1\" class=\"dataframe\">\n",
              "  <thead>\n",
              "    <tr style=\"text-align: right;\">\n",
              "      <th></th>\n",
              "      <th>Risk Score on a Scale of 0-100 (y)</th>\n",
              "    </tr>\n",
              "  </thead>\n",
              "  <tbody>\n",
              "    <tr>\n",
              "      <th>5</th>\n",
              "      <td>98</td>\n",
              "    </tr>\n",
              "    <tr>\n",
              "      <th>4</th>\n",
              "      <td>45</td>\n",
              "    </tr>\n",
              "    <tr>\n",
              "      <th>6</th>\n",
              "      <td>38</td>\n",
              "    </tr>\n",
              "    <tr>\n",
              "      <th>1</th>\n",
              "      <td>80</td>\n",
              "    </tr>\n",
              "    <tr>\n",
              "      <th>3</th>\n",
              "      <td>50</td>\n",
              "    </tr>\n",
              "    <tr>\n",
              "      <th>7</th>\n",
              "      <td>93</td>\n",
              "    </tr>\n",
              "  </tbody>\n",
              "</table>\n",
              "</div>"
            ],
            "text/plain": [
              "   Risk Score on a Scale of 0-100 (y)\n",
              "5                                  98\n",
              "4                                  45\n",
              "6                                  38\n",
              "1                                  80\n",
              "3                                  50\n",
              "7                                  93"
            ]
          },
          "metadata": {},
          "execution_count": 44
        }
      ]
    },
    {
      "cell_type": "code",
      "metadata": {
        "colab": {
          "base_uri": "https://localhost:8080/"
        },
        "id": "VWMiGJzeVGL-",
        "outputId": "f53009e3-78a1-4aca-a767-feac518a92dd"
      },
      "source": [
        "mean = int(y.mean())\n",
        "yList = np.reshape(yTrain.to_numpy(), 6)\n",
        "\n",
        "sumSST = ((yList - mean)**2).sum()\n",
        "\n",
        "print('The SST (Sum of Squares Total) for the above linear regession model is:', sumSST)"
      ],
      "execution_count": 90,
      "outputs": [
        {
          "output_type": "stream",
          "name": "stdout",
          "text": [
            "The SST (Sum of Squares Total) for the above linear regession model is: 3532\n"
          ]
        }
      ]
    },
    {
      "cell_type": "code",
      "metadata": {
        "colab": {
          "base_uri": "https://localhost:8080/"
        },
        "id": "jCscOtZwaF_x",
        "outputId": "f7026743-0faa-4a32-cda9-4f17dc9ef15d"
      },
      "source": [
        "mean = int(y.mean())\n",
        "\n",
        "predictedVals = regression.predict(xTest)\n",
        "predictedFinal = np.reshape(predictedVals, 2)\n",
        "\n",
        "sumSSR = int(((predictedFinal - mean)**2).sum())\n",
        "\n",
        "print('The SSR (Sum of Squares due to Regression) for the above linear regession model is:', sumSSR)"
      ],
      "execution_count": 78,
      "outputs": [
        {
          "output_type": "stream",
          "name": "stdout",
          "text": [
            "The SSR (Sum of Squares due to Regression for the above linear regession model is: 1676\n"
          ]
        }
      ]
    },
    {
      "cell_type": "code",
      "metadata": {
        "colab": {
          "base_uri": "https://localhost:8080/"
        },
        "id": "SzG5vKKUdcJh",
        "outputId": "4e497b10-e3db-4eff-aa0a-870d6ac8c088"
      },
      "source": [
        "print('The SSR (Sum of Squares Error) for the above linear regession model is:', sumSST - sumSSR)"
      ],
      "execution_count": 79,
      "outputs": [
        {
          "output_type": "stream",
          "name": "stdout",
          "text": [
            "The SSR (Sum of Squares Error) for the above linear regession model is: 1856\n"
          ]
        }
      ]
    },
    {
      "cell_type": "code",
      "metadata": {
        "colab": {
          "base_uri": "https://localhost:8080/"
        },
        "id": "VDdcI7bWfNIe",
        "outputId": "b56d4d5f-b69c-45b6-fe0f-d1c6058d961d"
      },
      "source": [
        "r2 = 1 - (sumSSR/sumSST)\n",
        "print('The r^2 value for the above linear regression model calculated through the formula is:', r2)\n",
        "print('The r^2 value for the above linear regression model calculated through LinearRegression is:', metrics.r2_score(yTest, predictedFinal))"
      ],
      "execution_count": 84,
      "outputs": [
        {
          "output_type": "stream",
          "name": "stdout",
          "text": [
            "The r^2 value for the above linear regression model calculated through the formula is: 0.5254813137032843\n",
            "The r^2 value for the above linear regression model calculated through LinearRegression is: 0.5269124283850473\n"
          ]
        }
      ]
    },
    {
      "cell_type": "markdown",
      "metadata": {
        "id": "Oea0I-PZgegW"
      },
      "source": [
        "##Instruction 5\n",
        "\n",
        "###SST\n",
        "The sum of squares total, denoted SST, is the squared differences between the observed dependent variable and its mean. You can think of this as the dispersion of the observed variables around the mean – much like the variance in descriptive statistics. It is a measure of the total variability of the dataset.<br><br>\n",
        "\n",
        "###SSR\n",
        "The second term is the sum of squares due to regression, or SSR. It is the sum of the differences between the predicted value and the mean of the dependent variable. Think of it as a measure that describes how well our line fits the data.If this value of SSR is equal to the sum of squares total, it means our regression model captures all the observed variability and is perfect. Once again, we have to mention that another common notation is ESS or explained sum of squares.<br><br>\n",
        "\n",
        "##SSE\n",
        "The last term is the sum of squares error, or SSE. The error is the difference between the observed value and the predicted value. We usually want to minimize the error. The smaller the error, the better the estimation power of the regression. Finally, I should add that it is also known as RSS or residual sum of squares. Residual as in: remaining or unexplained."
      ]
    },
    {
      "cell_type": "markdown",
      "metadata": {
        "id": "1vzz80HzhSoo"
      },
      "source": [
        "##Instruction 6"
      ]
    },
    {
      "cell_type": "code",
      "metadata": {
        "colab": {
          "base_uri": "https://localhost:8080/"
        },
        "id": "SZGqoXrhhqwk",
        "outputId": "9031ea2f-d525-4804-a6eb-3b5c023289ae"
      },
      "source": [
        "regression.score(x, y)"
      ],
      "execution_count": 107,
      "outputs": [
        {
          "output_type": "execute_result",
          "data": {
            "text/plain": [
              "0.42048450214956035"
            ]
          },
          "metadata": {},
          "execution_count": 107
        }
      ]
    },
    {
      "cell_type": "markdown",
      "metadata": {
        "id": "060sITrgkiBv"
      },
      "source": [
        "The r2 score for the complete model turns out to be ~0.42, therefore, according to Falk and Miller the model score should be more than or equal to 0.10 for a successful model, thus, accordin to these researchers in 1902 our model is successful. <br><br>\n",
        "\n",
        "If we were to consider Chin in 1998 who recommended that an r2 score of 0.33 or less renders a model moderate, then our model is rendered to be moderate in it's results."
      ]
    },
    {
      "cell_type": "code",
      "metadata": {
        "id": "Sr0pk1lzkSDd"
      },
      "source": [
        ""
      ],
      "execution_count": null,
      "outputs": []
    }
  ]
}