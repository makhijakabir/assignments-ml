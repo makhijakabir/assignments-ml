{
  "nbformat": 4,
  "nbformat_minor": 0,
  "metadata": {
    "colab": {
      "name": "Assignment_06_K_Nearest.ipynb",
      "provenance": [],
      "toc_visible": true,
      "include_colab_link": true
    },
    "kernelspec": {
      "name": "python3",
      "display_name": "Python 3"
    },
    "language_info": {
      "name": "python"
    }
  },
  "cells": [
    {
      "cell_type": "markdown",
      "metadata": {
        "id": "view-in-github",
        "colab_type": "text"
      },
      "source": [
        "<a href=\"https://colab.research.google.com/github/makhijakabir/assignments-ml/blob/main/Assignment_06_K_Nearest.ipynb\" target=\"_parent\"><img src=\"https://colab.research.google.com/assets/colab-badge.svg\" alt=\"Open In Colab\"/></a>"
      ]
    },
    {
      "cell_type": "code",
      "execution_count": 1,
      "metadata": {
        "id": "MuKniUpcAfF2"
      },
      "outputs": [],
      "source": [
        "import numpy as np\n",
        "import pandas as pd\n",
        "import math"
      ]
    },
    {
      "cell_type": "code",
      "source": [
        "x=np.array([[2,4],[4,2],[4,4],[4,6],[6,2],[6,4]])\n",
        "y=np.array([0,0,1,0,1,0])  #  0=negative 1=positive class"
      ],
      "metadata": {
        "id": "E4oU4yyRAoih"
      },
      "execution_count": 2,
      "outputs": []
    },
    {
      "cell_type": "code",
      "source": [
        "def eucledian_distance(x1,y1,x2,y2):\n",
        "    return math.sqrt((x1-x2)**2+(y1-y2)**2)"
      ],
      "metadata": {
        "id": "O5LgAEY-Au8X"
      },
      "execution_count": 3,
      "outputs": []
    },
    {
      "cell_type": "code",
      "source": [
        "def chooseK(arr):\n",
        "    print(\"Size of array :\",arr.shape[0])\n",
        "    k=round(math.sqrt(arr.shape[0]))\n",
        "    if(k%2==0):\n",
        "        k=k+1;\n",
        "    #k should be odd so that classfication can be done properly(No chance of 50%-50% classification)\n",
        "    print(\"Choosen value of K : \",k)\n",
        "    return k;"
      ],
      "metadata": {
        "id": "KpEC1TyMAxmU"
      },
      "execution_count": 4,
      "outputs": []
    },
    {
      "cell_type": "code",
      "source": [
        "chooseK(x)"
      ],
      "metadata": {
        "colab": {
          "base_uri": "https://localhost:8080/"
        },
        "id": "gVUn4KFpA0WH",
        "outputId": "3ea67fd5-0fa2-49d3-85e9-6132be644e8b"
      },
      "execution_count": 5,
      "outputs": [
        {
          "output_type": "stream",
          "name": "stdout",
          "text": [
            "Size of array : 6\n",
            "Choosen value of K :  3\n"
          ]
        },
        {
          "output_type": "execute_result",
          "data": {
            "text/plain": [
              "3"
            ]
          },
          "metadata": {},
          "execution_count": 5
        }
      ]
    },
    {
      "cell_type": "code",
      "source": [
        "def classifyPoint(x,y,point,k):\n",
        "    inputSize=x.shape[0];\n",
        "    \n",
        "    distance=[]; #for string eucledian distance\n",
        "    for i in range(inputSize):\n",
        "        distance.append(eucledian_distance(point[0],point[1],x[i][0],x[i][1]));\n",
        "        \n",
        "    mergedList=list(zip(distance,y));\n",
        "    mergedList.sort(); #sort according to increasing distance\n",
        "    \n",
        "    freq0=0; #Freq of group 0 (negative)\n",
        "    freq1=0; #Freq of group 1 (positive)\n",
        "    \n",
        "    for i in range(k): #Iterate for k neighbours\n",
        "        if(mergedList[i][1]==0):\n",
        "            freq0=freq0+1;\n",
        "        elif (mergedList[i][1]==1):\n",
        "            freq1=freq1+1;\n",
        "    \n",
        "    if(freq0>freq1):\n",
        "        return 0;\n",
        "    else:\n",
        "        return 1;"
      ],
      "metadata": {
        "id": "xRtWXelPA3aL"
      },
      "execution_count": 6,
      "outputs": []
    },
    {
      "cell_type": "code",
      "source": [
        "def main():\n",
        "    \n",
        "    print(\"Input X coordinate\");\n",
        "    x_co=int(input())\n",
        "    print(\"Enter Y coordinate \")\n",
        "    y_co=int(input())\n",
        "\n",
        "    pointt=(x_co,y_co)\n",
        "    print(pointt)\n",
        "    k=chooseK(x);\n",
        "    label=\"--\"\n",
        "    if(classifyPoint(x=x,y=y,point=pointt,k=k)==0):\n",
        "        label=\"Negative\";\n",
        "    else:\n",
        "        label:\"Positive\";\n",
        "    print(\"Point {} belongs to {} class\".format(pointt,label))\n",
        "    print (classifyPoint(x=x,y=y,point=pointt,k=k))\n",
        "    #classifyPoint(x=x,y=y,point=pointt,k=k)"
      ],
      "metadata": {
        "id": "cMehejJoA7Rh"
      },
      "execution_count": 7,
      "outputs": []
    },
    {
      "cell_type": "code",
      "source": [
        "main()"
      ],
      "metadata": {
        "colab": {
          "base_uri": "https://localhost:8080/"
        },
        "id": "u8Yl7Tx3A_IZ",
        "outputId": "4414ed0b-0b83-4122-e0cc-03f1cbd86517"
      },
      "execution_count": 8,
      "outputs": [
        {
          "output_type": "stream",
          "name": "stdout",
          "text": [
            "Input X coordinate\n",
            "2\n",
            "Enter Y coordinate \n",
            "4\n",
            "(2, 4)\n",
            "Size of array : 6\n",
            "Choosen value of K :  3\n",
            "Point (2, 4) belongs to Negative class\n",
            "0\n"
          ]
        }
      ]
    },
    {
      "cell_type": "code",
      "source": [
        ""
      ],
      "metadata": {
        "id": "XKfg1cOJBB6_"
      },
      "execution_count": 8,
      "outputs": []
    }
  ]
}